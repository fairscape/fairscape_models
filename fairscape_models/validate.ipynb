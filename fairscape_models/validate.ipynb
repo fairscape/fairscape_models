{
 "cells": [
  {
   "cell_type": "markdown",
   "metadata": {},
   "source": [
    "# New Validation"
   ]
  },
  {
   "cell_type": "code",
   "execution_count": 2,
   "metadata": {},
   "outputs": [
    {
     "name": "stdout",
     "output_type": "stream",
     "text": [
      "Validation successful! Found 16 elements.\n",
      "Validation took 0.0037 seconds\n"
     ]
    }
   ],
   "source": [
    "import json\n",
    "import time\n",
    "from fairscape_models.rocrate import ROCrateV1_2\n",
    "\n",
    "# Load the JSON file\n",
    "file_path = \"/Users/justin/Docs/Tim_Work/CM4AI_Crates/Dataverse/updated_updated_cell-atlas-ro-crate-metadata.json\"\n",
    "with open(file_path, 'r') as file:\n",
    "    data = json.load(file)\n",
    "\n",
    "# Time the validation\n",
    "start_time = time.time()\n",
    "validated = ROCrateV1_2.model_validate(data)\n",
    "end_time = time.time()\n",
    "\n",
    "# Calculate and print results\n",
    "validation_time = end_time - start_time\n",
    "print(f\"Validation successful! Found {len(validated.metadataGraph)} elements.\")\n",
    "print(f\"Validation took {validation_time:.4f} seconds\")"
   ]
  },
  {
   "cell_type": "code",
   "execution_count": 2,
   "metadata": {},
   "outputs": [
    {
     "name": "stdout",
     "output_type": "stream",
     "text": [
      "Validation took 0.0010 seconds\n"
     ]
    }
   ],
   "source": [
    "import json\n",
    "import time\n",
    "from fairscape_models.rocrate import ROCrateV1_2\n",
    "\n",
    "# Load the JSON file\n",
    "file_path = \"/Users/justin/Docs/Tim_Work/CM4AI_Crates/Dataverse/broken.json\"\n",
    "with open(file_path, 'r') as file:\n",
    "    data = json.load(file)\n",
    "\n",
    "# Time the validation\n",
    "start_time = time.time()\n",
    "try:\n",
    "    validated = ROCrateV1_2.model_validate(data)\n",
    "except:\n",
    "    end_time = time.time()\n",
    "    validation_time = end_time - start_time\n",
    "    print(f\"Validation took {validation_time:.4f} seconds\")"
   ]
  },
  {
   "cell_type": "markdown",
   "metadata": {},
   "source": [
    "# Old Validation"
   ]
  },
  {
   "cell_type": "code",
   "execution_count": 1,
   "metadata": {},
   "outputs": [
    {
     "name": "stdout",
     "output_type": "stream",
     "text": [
      "Validation successful! Found 16 elements.\n",
      "Validation took 0.0007 seconds\n"
     ]
    }
   ],
   "source": [
    "import json\n",
    "import time\n",
    "from fairscape_models.rocrate import ROCrateV1_2\n",
    "\n",
    "# Load the JSON file\n",
    "file_path = \"/Users/justin/Docs/Tim_Work/CM4AI_Crates/Dataverse/updated_updated_cell-atlas-ro-crate-metadata.json\"\n",
    "with open(file_path, 'r') as file:\n",
    "    data = json.load(file)\n",
    "\n",
    "# Time the validation\n",
    "start_time = time.time()\n",
    "validated = ROCrateV1_2.model_validate(data)\n",
    "end_time = time.time()\n",
    "\n",
    "# Calculate and print results\n",
    "validation_time = end_time - start_time\n",
    "print(f\"Validation successful! Found {len(validated.metadataGraph)} elements.\")\n",
    "print(f\"Validation took {validation_time:.4f} seconds\")"
   ]
  },
  {
   "cell_type": "code",
   "execution_count": 5,
   "metadata": {},
   "outputs": [
    {
     "name": "stdout",
     "output_type": "stream",
     "text": [
      "Validation successful! Found 16 elements.\n",
      "Validation took 0.0122 seconds\n"
     ]
    }
   ],
   "source": [
    "import json\n",
    "import time\n",
    "from fairscape_models.rocrate import ROCrateV1_2\n",
    "\n",
    "# Load the JSON file\n",
    "file_path = \"/Users/justin/Docs/Tim_Work/CM4AI_Crates/Dataverse/broken.json\"\n",
    "with open(file_path, 'r') as file:\n",
    "    data = json.load(file)\n",
    "\n",
    "# Time the validation\n",
    "start_time = time.time()\n",
    "try:\n",
    "    validated = ROCrateV1_2.model_validate(data)\n",
    "except:\n",
    "    end_time = time.time()\n",
    "    validation_time = end_time - start_time\n",
    "    print(f\"Validation successful! Found {len(validated.metadataGraph)} elements.\")\n",
    "    print(f\"Validation took {validation_time:.4f} seconds\")"
   ]
  },
  {
   "cell_type": "code",
   "execution_count": null,
   "metadata": {},
   "outputs": [],
   "source": []
  }
 ],
 "metadata": {
  "kernelspec": {
   "display_name": "base",
   "language": "python",
   "name": "python3"
  },
  "language_info": {
   "codemirror_mode": {
    "name": "ipython",
    "version": 3
   },
   "file_extension": ".py",
   "mimetype": "text/x-python",
   "name": "python",
   "nbconvert_exporter": "python",
   "pygments_lexer": "ipython3",
   "version": "3.11.7"
  }
 },
 "nbformat": 4,
 "nbformat_minor": 2
}
